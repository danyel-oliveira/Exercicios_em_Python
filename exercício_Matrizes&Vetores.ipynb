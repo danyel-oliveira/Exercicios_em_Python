{
  "nbformat": 4,
  "nbformat_minor": 0,
  "metadata": {
    "colab": {
      "provenance": [],
      "authorship_tag": "ABX9TyM7m8Sok2Ndq++EGFWjSMRz",
      "include_colab_link": true
    },
    "kernelspec": {
      "name": "python3",
      "display_name": "Python 3"
    },
    "language_info": {
      "name": "python"
    }
  },
  "cells": [
    {
      "cell_type": "markdown",
      "metadata": {
        "id": "view-in-github",
        "colab_type": "text"
      },
      "source": [
        "<a href=\"https://colab.research.google.com/github/danyel-oliveira/Exercicios_em_Python/blob/main/exerc%C3%ADcio_Matrizes%26Vetores.ipynb\" target=\"_parent\"><img src=\"https://colab.research.google.com/assets/colab-badge.svg\" alt=\"Open In Colab\"/></a>"
      ]
    },
    {
      "cell_type": "code",
      "execution_count": null,
      "metadata": {
        "colab": {
          "base_uri": "https://localhost:8080/"
        },
        "id": "83RtBOmkZ8kN",
        "outputId": "5d412e7f-f1f2-4c4d-d2a4-17fa4fa4d457"
      },
      "outputs": [
        {
          "output_type": "stream",
          "name": "stdout",
          "text": [
            "Categoria: Categoria A\n",
            " Total de intens: 2\n",
            " soma dos valores: 25.0\n",
            " Média dos valores: 12.5\n",
            " Valor máximo: 15.0\n",
            " Valor minimo: 10.0\n",
            "\n",
            "Categoria: Categoria B\n",
            " Total de intens: 2\n",
            " soma dos valores: 50.0\n",
            " Média dos valores: 25.0\n",
            " Valor máximo: 30.0\n",
            " Valor minimo: 20.0\n",
            "\n",
            "Categoria: Categoria C\n",
            " Total de intens: 1\n",
            " soma dos valores: 25.0\n",
            " Média dos valores: 25.0\n",
            " Valor máximo: 25.0\n",
            " Valor minimo: 25.0\n",
            "\n"
          ]
        }
      ],
      "source": [
        "#criando uma Array e manipulando sua estátisticas\n",
        "from dataclasses import dataclass\n",
        "from typing import List\n",
        "import statistics\n",
        "\n",
        "\n",
        "# definição da estrutura de dadso\n",
        "@dataclass\n",
        "class Dados:\n",
        "  categoria : str\n",
        "  valor : float\n",
        "\n",
        "#Função para alimentar o array de structs\n",
        "def alimentar_dados() -> List[Dados]:\n",
        "  dados = [\n",
        "      Dados(\"Categoria A\", 10.0),\n",
        "      Dados(\"Categoria B\", 20.0),\n",
        "      Dados(\"Categoria A\", 15.0),\n",
        "      Dados(\"Categoria C\", 25.0),\n",
        "      Dados(\"Categoria B\", 30.0),\n",
        "  ]\n",
        "  return dados\n",
        "\n",
        "# Funcao para gerar estatísticas dos dadso tabulados\n",
        "def gerar_estatisticas(dados: List[Dados]):\n",
        "  # Tabular dados por categoria\n",
        "  tabela ={}\n",
        "  for dado in dados:\n",
        "    if dado.categoria not in tabela:\n",
        "      tabela[dado.categoria] = []\n",
        "    tabela[dado.categoria].append(dado.valor)\n",
        "\n",
        "  # Exibir estatísticas\n",
        "  for categoria, valores in tabela.items():\n",
        "    print (f\"Categoria: {categoria}\") #print(\"Categoria: \", categoria)\n",
        "    print(f\" Total de intens: {len(valores)}\")\n",
        "    print(f\" soma dos valores: {sum(valores)}\")\n",
        "    print(f\" Média dos valores: {statistics.mean(valores)}\")\n",
        "    print(f\" Valor máximo: {max(valores)}\")\n",
        "    print(f\" Valor minimo: {min(valores)}\")\n",
        "    print()\n",
        "\n",
        "# Programa principal\n",
        "def main():\n",
        "  # Alimentar os dados\n",
        "  dados = alimentar_dados()\n",
        "\n",
        "  # Gerar estatísticas\n",
        "  gerar_estatisticas(dados)\n",
        "\n",
        "if __name__ == \"__main__\":\n",
        "  main()"
      ]
    },
    {
      "cell_type": "code",
      "source": [
        "# Classe para definir uma pilha (Stack)\n",
        "class Pilha:\n",
        "    def __init__(self):\n",
        "        self.itens = []  # Inicializa a pilha como uma lista vazia\n",
        "\n",
        "    # Operação Push: Adiciona elemento no topo\n",
        "    def push(self, item):\n",
        "        self.itens.append(item)\n",
        "        print(f\"Elemento {item} adicionado à pilha.\")\n",
        "\n",
        "    # Operação Pop: Remove elemento do topo\n",
        "    def pop(self):\n",
        "        if not self.esta_vazia():\n",
        "            removido = self.itens.pop()\n",
        "            print(f\"Elemento {removido} removido da pilha.\")\n",
        "            return removido\n",
        "        else:\n",
        "            print(\"A pilha está vazia. Nenhum elemento para remover.\")\n",
        "            return None\n",
        "\n",
        "    # Operação Top: Retorna o elemento no topo\n",
        "    def top(self):\n",
        "        if not self.esta_vazia():\n",
        "            print(f\"Elemento no topo: {self.itens[-1]}\")\n",
        "            return self.itens[-1]\n",
        "        else:\n",
        "            print(\"A pilha está vazia. Nenhum elemento no topo.\")\n",
        "            return None\n",
        "\n",
        "    # Operação Empty: Verifica se a pilha está vazia\n",
        "    def esta_vazia(self):\n",
        "        return len(self.itens) == 0\n",
        "\n",
        "    # Exibir o estado atual da pilha\n",
        "    def exibir_pilha(self):\n",
        "        print(f\"Pilha atual: {self.itens}\")\n",
        "\n",
        "    # Função para ordenar a pilha como lista\n",
        "    def ordenar_pilha(self):\n",
        "        lista_ordenada = sorted(self.itens)\n",
        "        print(f\"Lista ordenada: {lista_ordenada}\")\n",
        "        return lista_ordenada\n",
        "\n",
        "\n",
        "# Programa principal\n",
        "def main():\n",
        "    pilha = Pilha()\n",
        "\n",
        "    # Adicionando elementos à pilha\n",
        "    pilha.push(5)\n",
        "    pilha.push(3)\n",
        "    pilha.push(8)\n",
        "    pilha.exibir_pilha()\n",
        "\n",
        "    # Mostrando o elemento no topo\n",
        "    pilha.top()\n",
        "\n",
        "    # Removendo um elemento\n",
        "    pilha.pop()\n",
        "    pilha.exibir_pilha()\n",
        "\n",
        "    # Ordenando a pilha\n",
        "    pilha.ordenar_pilha()\n",
        "\n",
        "\n",
        "# Executa o programa principal\n",
        "if __name__ == \"__main__\":\n",
        "    main()\n"
      ],
      "metadata": {
        "id": "X9lV1AGorJlY",
        "colab": {
          "base_uri": "https://localhost:8080/"
        },
        "outputId": "e4284356-6af1-459d-ece6-d84aa6098bee"
      },
      "execution_count": null,
      "outputs": [
        {
          "output_type": "stream",
          "name": "stdout",
          "text": [
            "Elemento 5 adicionado à pilha.\n",
            "Elemento 3 adicionado à pilha.\n",
            "Elemento 8 adicionado à pilha.\n",
            "Pilha atual: [5, 3, 8]\n",
            "Elemento no topo: 8\n",
            "Elemento 8 removido da pilha.\n",
            "Pilha atual: [5, 3]\n",
            "Lista ordenada: [3, 5]\n"
          ]
        }
      ]
    }
  ]
}