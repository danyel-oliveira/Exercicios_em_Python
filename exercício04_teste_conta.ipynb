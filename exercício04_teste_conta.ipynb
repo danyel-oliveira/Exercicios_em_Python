{
  "nbformat": 4,
  "nbformat_minor": 0,
  "metadata": {
    "colab": {
      "provenance": [],
      "authorship_tag": "ABX9TyM0f5/CwZr3TCrHRFTyscWu",
      "include_colab_link": true
    },
    "kernelspec": {
      "name": "python3",
      "display_name": "Python 3"
    },
    "language_info": {
      "name": "python"
    }
  },
  "cells": [
    {
      "cell_type": "markdown",
      "metadata": {
        "id": "view-in-github",
        "colab_type": "text"
      },
      "source": [
        "<a href=\"https://colab.research.google.com/github/danyel-oliveira/Exercicios_em_Python/blob/main/exerc%C3%ADcio04_teste_conta.ipynb\" target=\"_parent\"><img src=\"https://colab.research.google.com/assets/colab-badge.svg\" alt=\"Open In Colab\"/></a>"
      ]
    },
    {
      "cell_type": "code",
      "execution_count": null,
      "metadata": {
        "id": "JjHhqqb7FEXP"
      },
      "outputs": [],
      "source": [
        "class Conta:\n",
        "\n",
        "    #código omitido\n",
        "\n",
        "    def deposita(self, valor):\n",
        "        self.saldo += valor\n",
        "        self.historico.transacoes.append(\"depósito de {}\".format(valor))\n",
        "\n",
        "    def saca(self, valor):\n",
        "        if (self.saldo < valor):\n",
        "            return False\n",
        "        else:\n",
        "            self.saldo -= valor\n",
        "            self.historico.transacoes.append(\"saque de {}\".format(valor))\n",
        "\n",
        "    def extrato(self):\n",
        "        print(\"numero: {} \\nsaldo: {}\".format(self.numero, self.saldo))\n",
        "        self.historico.transacoes.append(\"tirou extrato - saldo de {}\".format(self.saldo))\n",
        "\n",
        "    def transfere_para(self, destino, valor):\n",
        "        retirou = self.saca(valor)\n",
        "        if (retirou == False):\n",
        "            return False\n",
        "        else:\n",
        "            destino.deposita(valor)\n",
        "            self.historico.transacoes.append(\"transferencia de {}para conta {}\".format(valor, destino.numero))\n",
        "            return True"
      ]
    },
    {
      "cell_type": "code",
      "source": [],
      "metadata": {
        "id": "UFKHYGkISBRv"
      },
      "execution_count": null,
      "outputs": []
    }
  ]
}