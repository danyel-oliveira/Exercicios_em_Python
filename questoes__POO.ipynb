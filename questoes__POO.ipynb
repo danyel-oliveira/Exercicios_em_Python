{
  "nbformat": 4,
  "nbformat_minor": 0,
  "metadata": {
    "colab": {
      "provenance": [],
      "authorship_tag": "ABX9TyO5vLM/XE1Lbx/Vi1KRhdZS",
      "include_colab_link": true
    },
    "kernelspec": {
      "name": "python3",
      "display_name": "Python 3"
    },
    "language_info": {
      "name": "python"
    }
  },
  "cells": [
    {
      "cell_type": "markdown",
      "metadata": {
        "id": "view-in-github",
        "colab_type": "text"
      },
      "source": [
        "<a href=\"https://colab.research.google.com/github/danyel-oliveira/Exercicios_em_Python/blob/main/questoes__POO.ipynb\" target=\"_parent\"><img src=\"https://colab.research.google.com/assets/colab-badge.svg\" alt=\"Open In Colab\"/></a>"
      ]
    },
    {
      "cell_type": "markdown",
      "source": [
        "Nome: Danyel Barros Oliveira\n",
        "RGM:  38111021\n",
        "Turma: D1"
      ],
      "metadata": {
        "id": "FDJI73SUQg66"
      }
    },
    {
      "cell_type": "code",
      "execution_count": null,
      "metadata": {
        "id": "ROvJ77TSQAqq"
      },
      "outputs": [],
      "source": [
        "#Questão 1: Modelagem de uma Biblioteca\n",
        "#Crie um sistema simples para uma biblioteca. Defina classes para Livro (com atributos como título, autor, e ID) e Membro (com atributos como nome e número de identificação). Implemente métodos para:\n",
        "#Livro: exibir informações do livro.\n",
        "#Membro: exibir informações do membro e um método para pegar um livro emprestado (adicione um atributo no membro para armazenar uma lista de livros emprestados).\n",
        "class Livro:\n",
        "  def __init__(self, titulo, autor, id):\n",
        "    self.titulo = titulo\n",
        "    self.autor = autor\n",
        "    self.id = id\n",
        "  def exibir_informacoes(self):\n",
        "    print(f\"Livro: {self.titulo}, Autor: {self.autor}, ID: {self.id}\")\n",
        "\n",
        "class Membro:\n",
        "  def __init__(self, nome, numero_identificacao):\n",
        "    self.nome = nome\n",
        "    self.numero_identificacao = numero_identificacao\n",
        "    self.livros_emprestados = []\n",
        "  def exibir_info(self):\n",
        "    print(f\"Membro: {self.nome}, ID: {self.numero_identificacao}\")\n",
        "    if self.livros_emprestados:\n",
        "      print(\"Livro emprestados:\")\n",
        "      for livro in self.livros_emprestados:\n",
        "        print(f\"- {livro.titulo}\")\n",
        "  def pegar_livro(self,livro):\n",
        "    self.livros_emprestados.append(livro)\n",
        "    print(f\"{self.nome} pegou o livro: {livro.titulo}\")\n",
        "\n",
        "# Exemplo de livro\n",
        "Livro1 = Livro(\"A Cabana\", \"Autor Desconhecido\", 1)\n",
        "membro1 = Membro(\"João\", 12345)"
      ]
    },
    {
      "cell_type": "markdown",
      "source": [],
      "metadata": {
        "id": "teMUClleQfqR"
      }
    },
    {
      "cell_type": "code",
      "source": [
        "#Questão2: Hieraquia de Animais\n",
        "#- Crie uma hierarquia de classes representando animais.\n",
        "#-Comece com uma classe base chamada Animal com um método genérico fazer_som(). Crie subclasses como Cachorro, Gato e Vaca que herdam de Animal e sobrescrevem o método fazer_som() para emitir o som específico de cada animal.\n",
        "\n",
        "class Animal:\n",
        "  def fazer_som(self):\n",
        "    print(\"Som genérico de animal\")\n",
        "\n",
        "class Cachorro(Animal): # Fixed: Corrected indentation for class definition\n",
        "    def fazer_som(self):\n",
        "      print(\"Au Au\")\n",
        "\n",
        "class Gato(Animal):\n",
        "    def fazer_som(self):\n",
        "      print(\"Miau\")"
      ],
      "metadata": {
        "id": "P96dzbLlmI60"
      },
      "execution_count": null,
      "outputs": []
    },
    {
      "cell_type": "code",
      "source": [
        "#Questão 4: Sistema de Figuras Geométricas\n",
        "#Crie um sistema que gerencia diferentes figuras geométricas. Defina uma classe base FiguraGeometrica com um método abstrato calcular_area().\n",
        "#Crie subclasses como Circulo, Retangulo e Triangulo que herdam de FiguraGeometrica e implementam o método calcular_area() de acordo com a fórmula correta para cada figura.\n",
        "\n",
        "import math\n",
        "\n",
        "class FiguraGeometrica:\n",
        "  def calcular_area(self):\n",
        "    raise NotImplementedError(\"Método calcular_area deve ser implementado nas subclasses.\")\n"
      ],
      "metadata": {
        "id": "egZW9fzrm-SO"
      },
      "execution_count": null,
      "outputs": []
    },
    {
      "cell_type": "code",
      "source": [
        "#Questão 3: Gerenciamento de Contas Bancárias\n",
        "#Implemente um sistema para gerenciar contas bancárias.\n",
        "#Crie uma classe base ContaBancaria com atributos como número da conta e saldo.\n",
        "#Crie subclasses ContaCorrente (com um limite de cheque especial) e ContaPoupanca (com uma taxa de juros).\n",
        "#Implemente métodos para depositar, sacar e calcular juros (para a conta poupança).\n",
        "\n",
        "class ContaBancaria:\n",
        "    def __init__(self, numero, saldo=0.0):\n",
        "        self.numero = numero\n",
        "        self.saldo = saldo\n",
        "\n",
        "    def depositar(self, valor):\n",
        "        if valor > 0:\n",
        "            self.saldo += valor\n",
        "            print(f\"Depósito de R${valor:.2f} realizado com sucesso!\")\n",
        "        else:\n",
        "            print(\"Valor inválido para depósito.\")\n",
        "\n",
        "    def sacar(self, valor):\n",
        "        if 0 < valor <= self.saldo:\n",
        "            self.saldo -= valor\n",
        "            print(f\"Saque de R${valor:.2f} realizado com sucesso!\")\n",
        "        else:\n",
        "            print(\"Saldo insuficiente ou valor inválido.\")\n",
        "\n",
        "    def exibir_saldo(self):\n",
        "        print(f\"Saldo atual da conta {self.numero}: R${self.saldo:.2f}\")\n",
        "\n",
        "class ContaCorrente(ContaBancaria):\n",
        "    def __init__(self, numero, saldo=0.0, limite=500):\n",
        "        super().__init__(numero, saldo)\n",
        "        self.limite = limite\n",
        "\n",
        "    def sacar(self, valor):\n",
        "        if 0 < valor <= (self.saldo + self.limite):\n",
        "            self.saldo -= valor\n",
        "            print(f\"Saque de R${valor:.2f} realizado com sucesso! (Cheque especial usado)\")\n",
        "        else:\n",
        "            print(\"Saldo e limite insuficientes.\")\n",
        "\n",
        "class ContaPoupanca(ContaBancaria):\n",
        "    def __init__(self, numero, saldo=0.0, taxa_juros=0.02):\n",
        "        super().__init__(numero, saldo)\n",
        "        self.taxa_juros = taxa_juros\n",
        "\n",
        "    def calcular_juros(self):\n",
        "        juros = self.saldo * self.taxa_juros\n",
        "        self.saldo += juros\n",
        "        print(f\"Juros de R${juros:.2f} aplicados! Novo saldo: R${self.saldo:.2f}\")\n",
        "\n",
        "# Exemplo de uso:\n",
        "conta1 = ContaCorrente(12345, saldo=1000, limite=500)\n",
        "conta1.exibir_saldo()\n",
        "conta1.sacar(1200)\n",
        "conta1.exibir_saldo()\n",
        "conta1.depositar(300)\n",
        "conta1.exibir_saldo()\n",
        "\n",
        "conta2 = ContaPoupanca(67890, saldo=2000, taxa_juros=0.03)\n",
        "conta2.exibir_saldo()\n",
        "conta2.calcular_juros()\n",
        "conta2.exibir_saldo()\n",
        "\n",
        "\n"
      ],
      "metadata": {
        "id": "coy2aqwTYhbO",
        "outputId": "48d051f1-4411-4c63-c537-601ac2fda6e1",
        "colab": {
          "base_uri": "https://localhost:8080/"
        }
      },
      "execution_count": null,
      "outputs": [
        {
          "output_type": "stream",
          "name": "stdout",
          "text": [
            "Saldo atual da conta 12345: R$1000.00\n",
            "Saque de R$1200.00 realizado com sucesso! (Cheque especial usado)\n",
            "Saldo atual da conta 12345: R$-200.00\n",
            "Depósito de R$300.00 realizado com sucesso!\n",
            "Saldo atual da conta 12345: R$100.00\n",
            "Saldo atual da conta 67890: R$2000.00\n",
            "Juros de R$60.00 aplicados! Novo saldo: R$2060.00\n",
            "Saldo atual da conta 67890: R$2060.00\n"
          ]
        }
      ]
    },
    {
      "cell_type": "code",
      "source": [
        "#Questão 4: Sistema de Figuras Geométricas\n",
        "#Crie um sistema que gerencia diferentes figuras geométricas.\n",
        "#Defina uma classe base FiguraGeometrica com um método abstrato calcular_area().\n",
        "#Crie subclasses como Circulo, Retangulo e Triangulo que herdam de FiguraGeometrica e implementam o método calcular_area() de acordo com a fórmula correta para cada figura.\n",
        "\n",
        "import math\n",
        "\n",
        "class Circulo:\n",
        "    def __init__(self, raio):\n",
        "        self.raio = raio\n",
        "\n",
        "    def calcular_area(self):\n",
        "        return math.pi * self.raio ** 2\n",
        "\n",
        "class Retangulo:\n",
        "    def __init__(self, base, altura):\n",
        "        self.base = base\n",
        "        self.altura = altura\n",
        "\n",
        "    def calcular_area(self):\n",
        "        return self.base * self.altura\n",
        "\n",
        "class Triangulo:\n",
        "    def __init__(self, base, altura):\n",
        "        self.base = base\n",
        "        self.altura = altura\n",
        "\n",
        "    def calcular_area(self):\n",
        "        return (self.base * self.altura) / 2\n",
        "\n",
        "# Testando o sistema\n",
        "print(f\"Área do Círculo: {Circulo(5).calcular_area():.2f}\")\n",
        "print(f\"Área do Retângulo: {Retangulo(4, 6).calcular_area():.2f}\")\n",
        "print(f\"Área do Triângulo: {Triangulo(4, 7).calcular_area():.2f}\")\n"
      ],
      "metadata": {
        "id": "uKc4xdgxOxJB",
        "outputId": "fa956759-4494-4034-ed1a-ab5ded41de50",
        "colab": {
          "base_uri": "https://localhost:8080/"
        }
      },
      "execution_count": null,
      "outputs": [
        {
          "output_type": "stream",
          "name": "stdout",
          "text": [
            "Área do Círculo: 78.54\n",
            "Área do Retângulo: 24.00\n",
            "Área do Triângulo: 14.00\n"
          ]
        }
      ]
    },
    {
      "cell_type": "code",
      "source": [
        "#Questão 5: Cadastro de Produtos e Clientes\n",
        "#Elabore um pequeno sistema de cadastro de produtos e clientes para uma loja.\n",
        "#Crie uma classe Produto com os atributos: nome, código, valor e quantidade em estoque.\n",
        "#Crie uma classe Cliente com os atributos: nome, cpf, endereço e telefone.\n",
        "#Desenvolva um método para a classe cliente que mostre seus dados cadastrados.\n",
        "#Desenvolva um método para a classe produto que mostre seus dados cadastrados.\n",
        "\n",
        "class Produto:\n",
        "    def __init__(self, nome, codigo, valor, quantidade):\n",
        "        self.nome = nome\n",
        "        self.codigo = codigo\n",
        "        self.valor = valor\n",
        "        self.quantidade = quantidade\n",
        "\n",
        "    def mostrar_dados(self):\n",
        "        print(f\"Produto: {self.nome} | Código: {self.codigo} | Valor: R${self.valor:.2f} | Estoque: {self.quantidade} unidades\")\n",
        "\n",
        "class Cliente:\n",
        "    def __init__(self, nome, cpf, endereco, telefone):\n",
        "        self.nome = nome\n",
        "        self.cpf = cpf\n",
        "        self.endereco = endereco\n",
        "        self.telefone = telefone\n",
        "\n",
        "    def mostrar_dados(self):\n",
        "        print(f\"Cliente: {self.nome} | CPF: {self.cpf} | Endereço: {self.endereco} | Telefone: {self.telefone}\")\n",
        "\n",
        "# Criando um produto e um cliente\n",
        "produto1 = Produto(\"Notebook\", 101, 3500.00, 10)\n",
        "cliente1 = Cliente(\"Carlos Silva\", \"123.456.789-00\", \"Rua A, 123\", \"(11) 99999-8888\")\n",
        "\n",
        "# Exibindo os dados cadastrados\n",
        "produto1.mostrar_dados()\n",
        "cliente1.mostrar_dados()\n"
      ],
      "metadata": {
        "id": "2IvYO_BpPzGH",
        "outputId": "1c082fcf-f1b9-4bb1-c103-d0e085110903",
        "colab": {
          "base_uri": "https://localhost:8080/"
        }
      },
      "execution_count": null,
      "outputs": [
        {
          "output_type": "stream",
          "name": "stdout",
          "text": [
            "Produto: Notebook | Código: 101 | Valor: R$3500.00 | Estoque: 10 unidades\n",
            "Cliente: Carlos Silva | CPF: 123.456.789-00 | Endereço: Rua A, 123 | Telefone: (11) 99999-8888\n"
          ]
        }
      ]
    }
  ]
}